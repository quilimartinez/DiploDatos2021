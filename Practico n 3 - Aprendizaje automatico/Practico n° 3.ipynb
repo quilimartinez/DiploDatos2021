{
 "cells": [
  {
   "cell_type": "markdown",
   "metadata": {},
   "source": [
    "![Imagen](https://www.bancor.com.ar/718_APP/media/8634/bannerweb-tutoriales-prendete-a-banc%C3%B3n.jpg)\n"
   ]
  },
  {
   "cell_type": "markdown",
   "metadata": {},
   "source": [
    "# MENTORÍA BANCOR\n",
    "## Práctico n°3\n",
    "### Introduccion al aprendizaje automático"
   ]
  },
  {
   "cell_type": "markdown",
   "metadata": {},
   "source": [
    "En la siguiente notebook se presentarán las consignas para desarrollar el tercer práctico de la mentoría, correspondiente a  Introducción al Aprendizaje Automático.\n",
    "El objetivo consiste en explorar y aplicar diferentes métodos aprendidos en el curso, y sumar el trabajo realizado en los prácticos 1 y 2 (principalmente estadistica descriptiva y curación del dataset).\n",
    "Nos centraremos principalmente en implementar técnicas y estrategias usuales al momento enfrentar problemas comunes en la vida diaria de un Científico de datos más que en los resultados de los modelos por el momento.\n",
    "\n",
    "\n",
    "### Objetivos:\n",
    "\n",
    "En el nuevo dataset disponible \"DataSet_MentoriaBancor_v3.csv\", cuentan con los mismos clientes que han generado un Alta de Prestamo (y que hemos analizado) y la misma cantidad de clientes que no han generado un Alta de Prestamo (nuevos clientes).\n",
    "\n",
    "Intentaremos responder a la siguiente pregunta:\n",
    "\n",
    "¿Cuáles son las variables significativas de los clientes bancor que ustedes tendían en cuenta a la hora de invertir en una campaña de marketing de venta de Préstamos Personales?\n",
    "\n",
    "Para ello se solicita a continuación:\n",
    "\n",
    "#### Preparacion del dataset\n",
    "\n",
    "1- Aplicar los criterios de curación de datos ya aplicados en el práctico anterior a la variables elegidas (faltantes / outliers)\n",
    "\n",
    "2 - Dividir el dataset en conjuntos de entrenamiento, validación y test realizando un muestreo estratificado. \n",
    "¿Qué variables condiseran relevantes para realizar el muestreo? ¿Por qué?\n",
    "\n",
    "3 - ¿Son las distribuciones de los datos similares en ambos conjuntos? \n",
    "Si la respuesta es no, ¿qué decisión tomarían?\n",
    "\n",
    "\n",
    "#### Primer Modelado\n",
    "\n",
    "1 - Probar un modelo de regresión lineal y polinomial sobre los datos sin normalizar. \n",
    "\n",
    "2- Probar un modelo de regresión logística sobre los datos sin normalizar.\n",
    "Para ello realizar la codificación de las variables categóricas elegidas para el modelo, mediante la creación de varibles dummy.\n",
    "Analizar los resultados.\n",
    "\n",
    "3- Probar un modelo de árbol de decisión también sobre los datos sin normalizar. \n",
    "\n",
    "4 - Analizar y exponer los resultados obtenidos hasta el momento de alguna manera que se puedan comparar entre ellos.\n",
    "\n",
    "\n",
    "#### Segundo Modelado\n",
    "\n",
    "1- Construir un segundo dataset con variables normalizadas/estandarizadas eligiendo alguna de las técnicas estudiadas en clases. \n",
    "Tener en cuenta que las variables numéricas tiene valores muy dispares unas de otras (EJ: edad, monto, antiguedad)\n",
    "No hace falta que sean todas las variables, sino las que hayan elegido hasta el momento para utilizar en sus modelos.\n",
    "\n",
    "2- Repetir los pasos 2 y 3 sobre el dataset normalizado.\n",
    "\n",
    "4 - Analizar y rescatar los resultados obtenidos.\n",
    "\n",
    "\n",
    "\n",
    "### Entregas:\n",
    "\n",
    "* Breve informe en el cual desarrollen los puntos anteriores, el cual debe incluir:gráficos, resultados obtenidos y las conclusiones obtenidas (no agregar código al informe)\n",
    "\n",
    "* Notebook que refleje el trabajo realizado en Python. Puede ser la notebook aquí presentada e intervenida por ustedes o bien generar una nueva. \n",
    "\n",
    "\n",
    "### Consultas\n",
    "\n",
    "* Cualquier consulta referente al DataSet o interpretación de variables, canalizarlas por el canal de Slack.\n",
    "\n",
    "#### Fecha limite de entrega: 15/08/2021\n"
   ]
  },
  {
   "cell_type": "markdown",
   "metadata": {},
   "source": []
  }
 ],
 "metadata": {
  "kernelspec": {
   "display_name": "Python 3",
   "language": "python",
   "name": "python3"
  },
  "language_info": {
   "codemirror_mode": {
    "name": "ipython",
    "version": 3
   },
   "file_extension": ".py",
   "mimetype": "text/x-python",
   "name": "python",
   "nbconvert_exporter": "python",
   "pygments_lexer": "ipython3",
   "version": "3.7.3"
  }
 },
 "nbformat": 4,
 "nbformat_minor": 2
}
