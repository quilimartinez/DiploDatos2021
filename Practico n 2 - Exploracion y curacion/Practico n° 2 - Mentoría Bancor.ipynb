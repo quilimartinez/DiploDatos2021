{
 "cells": [
  {
   "cell_type": "markdown",
   "metadata": {},
   "source": [
    "![Imagen](https://www.bancor.com.ar/718_APP/media/8634/bannerweb-tutoriales-prendete-a-banc%C3%B3n.jpg)\n"
   ]
  },
  {
   "cell_type": "markdown",
   "metadata": {},
   "source": [
    "# MENTORÍA BANCOR\n",
    "## Práctico n°2\n",
    "### Exploración y Curación"
   ]
  },
  {
   "cell_type": "markdown",
   "metadata": {},
   "source": [
    "### Objetivos:\n",
    "\n",
    "Curar el set de datos inicial con el fin de mejorar la calidad de análisis de los próximos módulos.\n",
    "\n",
    "1. Seleccionar 2 variables que consideren relevanetes con valores faltantes.\n",
    "   Analizarlas y optar por el tratamiento adecuado (eliminarlos, considerarlos, normalizarlos, etc ) investigando todos los    métodos disponibles para éste inconveniente.\n",
    "2. Elegir 2 variables en la cual ustedes observen Outliers.\n",
    "   Discutir posibles motivos y optar por avanzar con una política. \n",
    "3. Seleccionar alguna variable que presente alguna inconsistencia con el set de datos.    \n",
    "   Discutir posibles causales y optar por un tratamiendo para ésta variable.\n",
    "4. ¿Existen ids duplicados? ¿Existen datos duplicados?\n",
    "    En caso de haberlos, comentar recomendaciones a seguir.\n",
    "Incorporar algunos gráficos que permitan describir las situaciones\n",
    "\n",
    "Los incisos anteriores  están orientados a mejorar la consistencia y calidad del dataset, lo que permitirá obtener mejores resultados en próximos análisis.\n",
    "En ciencias de datos estos procesos son continuos en las distintas estapas de análisis. Es decir que si los datos requieren de mayor procesamiento , vamos a volver a ésta etapa inicial para sacar mayor provecho.\n",
    "\n",
    "Entregas:\n",
    "1. Breve informe (no más de 2 o 3 páginas) en el cual se explique qué detectaron en el set de datos, qué interpretación le dieron, alternativas de solución y propuesta.\n",
    "2. El dataset con los cambios implementados en cuanto a curación y normalización.\n",
    "3. Notebook que refleje el trabajo realizado."
   ]
  },
  {
   "cell_type": "code",
   "execution_count": null,
   "metadata": {},
   "outputs": [],
   "source": []
  },
  {
   "cell_type": "code",
   "execution_count": null,
   "metadata": {},
   "outputs": [],
   "source": []
  }
 ],
 "metadata": {
  "kernelspec": {
   "display_name": "Python 3",
   "language": "python",
   "name": "python3"
  },
  "language_info": {
   "codemirror_mode": {
    "name": "ipython",
    "version": 3
   },
   "file_extension": ".py",
   "mimetype": "text/x-python",
   "name": "python",
   "nbconvert_exporter": "python",
   "pygments_lexer": "ipython3",
   "version": "3.7.3"
  }
 },
 "nbformat": 4,
 "nbformat_minor": 2
}
